{
 "cells": [
  {
   "cell_type": "code",
   "execution_count": 2,
   "metadata": {},
   "outputs": [
    {
     "name": "stdout",
     "output_type": "stream",
     "text": [
      "<KeysViewHDF5 ['camera_name', 'distortion', 'distortion_model', 'focal_length', 'ignore_mask', 'image_size_wh', 'points', 'principal_point', 'rgb', 'timestamp_usec', 'world_from_cam']>\n"
     ]
    }
   ],
   "source": [
    "import h5py\n",
    "\n",
    "f = h5py.File('/home/joseph/tdai/tdai-code/datasets/zipline/processed/03/scene.h5', 'r')\n",
    "print(f.keys())\n"
   ]
  },
  {
   "cell_type": "code",
   "execution_count": 24,
   "metadata": {},
   "outputs": [
    {
     "name": "stdout",
     "output_type": "stream",
     "text": [
      "Camera 0:\n",
      "Camera Name: 1\n",
      "Pose (world_from_cam):\n",
      "[[ 9.99988074e-01  2.15311391e-03 -4.38361399e-03 -2.09872185e-01]\n",
      " [-2.34878988e-03  9.98978201e-01 -4.51335395e-02  2.10231945e+00]\n",
      " [ 4.28195717e-03  4.51432974e-02  9.98971345e-01 -3.16493342e+01]\n",
      " [ 0.00000000e+00  0.00000000e+00  0.00000000e+00  1.00000000e+00]]\n",
      "Time (timestamp_usec): 40000\n"
     ]
    }
   ],
   "source": [
    "# Print a single camera's pose, time, and depth\n",
    "\n",
    "# Choose an index (e.g., 0 for the first camera)\n",
    "index = 0\n",
    "\n",
    "print(f\"Camera {index}:\")\n",
    "\n",
    "# Print camera name\n",
    "print(f\"Camera Name: {f['camera_name'][index]}\")  # Removed .decode('utf-8')\n",
    "\n",
    "# Print pose (world_from_cam)\n",
    "print(f\"Pose (world_from_cam):\\n{f['world_from_cam'][index]}\")\n",
    "\n",
    "# Print time (timestamp_usec)\n",
    "print(f\"Time (timestamp_usec): {f['timestamp_usec'][index]}\")\n",
    "\n",
    "# Print depth (using 'points' as it contains 3D information)\n",
    "points = f['points']['xyz']\n",
    "\n",
    "\n"
   ]
  },
  {
   "cell_type": "code",
   "execution_count": 27,
   "metadata": {},
   "outputs": [
    {
     "data": {
      "text/plain": [
       "array([-2.2427    , -3.73344921, 33.1572525 ])"
      ]
     },
     "execution_count": 27,
     "metadata": {},
     "output_type": "execute_result"
    }
   ],
   "source": [
    "points[0]"
   ]
  }
 ],
 "metadata": {
  "kernelspec": {
   "display_name": "deformable",
   "language": "python",
   "name": "python3"
  },
  "language_info": {
   "codemirror_mode": {
    "name": "ipython",
    "version": 3
   },
   "file_extension": ".py",
   "mimetype": "text/x-python",
   "name": "python",
   "nbconvert_exporter": "python",
   "pygments_lexer": "ipython3",
   "version": "3.9.19"
  }
 },
 "nbformat": 4,
 "nbformat_minor": 2
}
